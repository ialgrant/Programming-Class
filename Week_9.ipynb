{
  "nbformat": 4,
  "nbformat_minor": 0,
  "metadata": {
    "colab": {
      "provenance": []
    },
    "kernelspec": {
      "name": "python3",
      "display_name": "Python 3"
    },
    "language_info": {
      "name": "python"
    }
  },
  "cells": [
    {
      "cell_type": "code",
      "source": [
        "from google.colab import drive\n",
        "drive.mount('/content/drive')"
      ],
      "metadata": {
        "colab": {
          "base_uri": "https://localhost:8080/"
        },
        "id": "duMnP3hEANYD",
        "outputId": "7e5adff7-43c3-4503-bfe5-d738213c428f"
      },
      "execution_count": 1,
      "outputs": [
        {
          "output_type": "stream",
          "name": "stdout",
          "text": [
            "Mounted at /content/drive\n"
          ]
        }
      ]
    },
    {
      "cell_type": "code",
      "source": [
        "import numpy as np\n",
        "import pandas as pd\n",
        "import matplotlib as mpl\n",
        "import matplotlib.pyplot as plt\n",
        "import statsmodels.formula.api as sm #*** important\n",
        "import statsmodels.api as se\n",
        "import seaborn as sns\n",
        "import datetime as dt\n",
        "from sklearn.linear_model import LinearRegression\n",
        "from scipy import stats\n",
        "from io import StringIO\n",
        "import itertools\n",
        "\n",
        "\n",
        "%matplotlib inline\n",
        "pd.set_eng_float_format(accuracy=3, use_eng_prefix=True)\n",
        "pd.set_option('display.float_format', lambda x: '%.2f' % x)"
      ],
      "metadata": {
        "id": "Zkluh79zBC4V"
      },
      "execution_count": 2,
      "outputs": []
    },
    {
      "cell_type": "code",
      "source": [
        "import webbrowser"
      ],
      "metadata": {
        "id": "BCLZINWSYh6x"
      },
      "execution_count": 5,
      "outputs": []
    },
    {
      "cell_type": "code",
      "source": [
        "webbrowser.open('https://inventwithpython.com/')"
      ],
      "metadata": {
        "colab": {
          "base_uri": "https://localhost:8080/"
        },
        "id": "Ckne3uHRYQoK",
        "outputId": "13308449-000c-4c15-e4f5-4ead83bf2c2d"
      },
      "execution_count": 8,
      "outputs": [
        {
          "output_type": "execute_result",
          "data": {
            "text/plain": [
              "False"
            ]
          },
          "metadata": {},
          "execution_count": 8
        }
      ]
    }
  ]
}